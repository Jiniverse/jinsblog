{
 "cells": [
  {
   "cell_type": "markdown",
   "metadata": {},
   "source": [
    "# 用 python 画动画\n",
    "> \"总结一下 python 画动画的方法\"\n",
    "\n",
    "- toc: true\n",
    "- branch: master\n",
    "- badges: true\n",
    "- comments: true\n",
    "- author: Shan Jin\n",
    "- categories: [python]"
   ]
  },
  {
   "cell_type": "markdown",
   "metadata": {},
   "source": [
    "# 在 jupyter notebook 中展现动画\n",
    "首先为了在 jupyter notebook 中展现动画，要先载入交互式绘图："
   ]
  },
  {
   "cell_type": "code",
   "execution_count": null,
   "metadata": {},
   "outputs": [],
   "source": [
    "%matplotlib notebook\n",
    "#calling it a second time may prevent some graphics errors\n",
    "%matplotlib notebook "
   ]
  },
  {
   "cell_type": "markdown",
   "metadata": {},
   "source": [
    "# 用 FuncAnimation 画动画\n",
    "## 简单示例\n",
    "利用 [FuncAnimation](https://matplotlib.org/stable/api/_as_gen/matplotlib.animation.FuncAnimation.html) 可以实现 python 动画，下面是一个例子："
   ]
  },
  {
   "cell_type": "code",
   "execution_count": null,
   "metadata": {},
   "outputs": [],
   "source": [
    "import numpy as np\n",
    "import matplotlib.pyplot as plt\n",
    "from matplotlib.animation import FuncAnimation\n",
    "\n",
    "fig, ax = plt.subplots()\n",
    "\n",
    "# line, = ax.plot([])\n",
    "\n",
    "\n",
    "x = np.linspace(0, 2*np.pi, 100)\n",
    "y = np.sin(x)\n",
    "\n",
    "line, = ax.plot(x, y)\n",
    "# plt.plot(x, y)\n",
    "\n",
    "ax.set_xlim(0, 2*np.pi)\n",
    "ax.set_ylim(-1.1, 1.1)\n",
    "\n",
    "\n",
    "def animate(frame_num):\n",
    "    y = np.sin(x + 2*np.pi * frame_num/100)\n",
    "    line.set_data((x, y))\n",
    "    return line\n",
    "\n",
    "ani = FuncAnimation(fig, animate, frames=100, interval=5)\n",
    "# plt.show()\n",
    "# ani.save('ani.mp4',fps=100)\n",
    "# ani.save('ani.gif', writer='imagemagick', fps=100)"
   ]
  },
  {
   "cell_type": "markdown",
   "metadata": {},
   "source": [
    "其中 `frames=100` 是总帧数， `interval=5` 是每帧之间的间隔，单位是毫秒。\n",
    "## 关于储存\n",
    "`FuncAnimation` 返回对象可以直接存为 `.mp4` 格式的文件，例如上述示例中用 `ani.save('ani.mp4',fps=100)` 进行储存。由于 `matplotlib` 本身不支持 `.gif` 格式的储存，若要保存为 `.gif` 格式文件，必须安装外部软件来实现，比如 `imagemagick`. 在正确安装 [ImageMagick](https://www.imagemagick.org/script/index.php) 之后，可用它来实现 `.gif` 格式的存储，例如上述示例中，储存语句为 `ani.save('ani.gif', writer='imagemagick', fps=100)`.\n",
    "\n",
    "> Note: 用 `plot` 函数作图时，用 `set_data` 更新数据；对于 `imshow` 或 `pcolormesh` 作图则用 `set_array` 来更新数据。\n",
    "\n",
    "## pcolormesh 动画\n",
    "下面是一个简单的 `pcolormesh` 动画 "
   ]
  },
  {
   "cell_type": "code",
   "execution_count": null,
   "metadata": {},
   "outputs": [],
   "source": [
    "import numpy as np\n",
    "import matplotlib.pyplot as plt\n",
    "from matplotlib.animation import FuncAnimation\n",
    "\n",
    "y = np.linspace(-np.pi, np.pi, 100)\n",
    "x = np.linspace(-np.pi, np.pi, 100)\n",
    "C = np.ones((100, 100)) * float('nan')\n",
    "\n",
    "# intantiate empty plot (values = nan)\n",
    "fig, ax = plt.subplots()\n",
    "pcmesh = ax.pcolormesh(x, y, C, vmin=-1, vmax=1, shading='gouraud')\n",
    "\n",
    "# generate some new data\n",
    "X, Y = np.meshgrid(x, y)\n",
    "def animate(frame_num):\n",
    "    C = np.sin(X+2*np.pi * frame_num/100) \n",
    "    # ravel() converts C to a 1d-array\n",
    "    pcmesh.set_array(C.ravel())\n",
    "    return pcmesh\n",
    "\n",
    "ani = FuncAnimation(fig, animate, frames=100, interval=3)"
   ]
  },
  {
   "cell_type": "markdown",
   "metadata": {},
   "source": [
    "注意：`shading='gouraud'` 必须要加上，否则会报错:\n",
    "```\n",
    "ValueError: total size of new array must be unchanged\n",
    "```\n",
    "## 画动画的一般方法\n",
    "从上面两个例子中可以看到，不同的画图函数更新数据的方法不同，当调用一些陌生的绘图指令时更是不知道如何更新数据。有种通用的方法是每次都清除面板、重新绘图，有点类似 `matlab` 里画动画的操作，示例如下："
   ]
  },
  {
   "cell_type": "code",
   "execution_count": null,
   "metadata": {},
   "outputs": [],
   "source": [
    "import numpy as np\n",
    "import matplotlib.pyplot as plt\n",
    "from matplotlib.animation import FuncAnimation\n",
    "\n",
    "fig, ax = plt.subplots()\n",
    "\n",
    "x = np.linspace(0, 2*np.pi, 100)\n",
    "y = np.sin(x)\n",
    "\n",
    "line, = ax.plot(x, y)\n",
    "# plt.plot(x, y)\n",
    "\n",
    "ax.set_xlim(0, 2*np.pi)\n",
    "ax.set_ylim(-1.1, 1.1)\n",
    "\n",
    "def animate(frame_num, x, plot):\n",
    "    y = np.sin(x + 2*np.pi * frame_num/100)\n",
    "    ax.clear()\n",
    "    plot = ax.plot(x, y)\n",
    "    ax.set_xlim(0, 2*np.pi)\n",
    "    ax.set_ylim(-1.1, 1.1)\n",
    "    return plot\n",
    "\n",
    "plot_ani = FuncAnimation(fig, animate, frames=100 ,fargs=(x, line),interval=5)"
   ]
  },
  {
   "cell_type": "markdown",
   "metadata": {},
   "source": [
    "# 用 imageio 创建 gif\n",
    "当然咯，如果你觉得 `FuncAnimation` 的使用规则太过于复杂，那么还可以用一种极其简单的方法来画动画，就是把构成动画的每一帧图形都保存下来，然后利用 [imageio](https://imageio.readthedocs.io/en/stable/) 来创建 `.gif` 格式文件。"
   ]
  },
  {
   "cell_type": "code",
   "execution_count": 6,
   "metadata": {},
   "outputs": [],
   "source": [
    "import numpy as np\n",
    "import matplotlib.pyplot as plt\n",
    "import imageio\n",
    "\n",
    "y = np.linspace(-np.pi, np.pi, 100)\n",
    "x = np.linspace(-np.pi, np.pi, 100)\n",
    "X, Y = np.meshgrid(x, y)\n",
    "\n",
    "# save every frame of animation\n",
    "for i in range(100):\n",
    "    C = np.sin(X+2*np.pi * i/100) \n",
    "    fig, ax = plt.subplots()\n",
    "    ax.pcolormesh(x, y, C, vmin=-1, vmax=1, shading='gouraud')\n",
    "    plt.savefig('figs/'+str(i).zfill(3)+'.png')\n",
    "\n",
    "# to create gif \n",
    "images = []\n",
    "for i in range(100):\n",
    "    filename = 'figs/'+str(i).zfill(3)+'.png'\n",
    "    images.append(imageio.imread(filename))\n",
    "imageio.mimsave('ani.gif', images, duration=0.01)"
   ]
  },
  {
   "cell_type": "markdown",
   "metadata": {},
   "source": [
    "注意：`duration` 的单位是秒。"
   ]
  },
  {
   "cell_type": "code",
   "execution_count": null,
   "metadata": {},
   "outputs": [],
   "source": []
  }
 ],
 "metadata": {
  "kernelspec": {
   "display_name": "Python 3",
   "language": "python",
   "name": "python3"
  },
  "language_info": {
   "codemirror_mode": {
    "name": "ipython",
    "version": 3
   },
   "file_extension": ".py",
   "mimetype": "text/x-python",
   "name": "python",
   "nbconvert_exporter": "python",
   "pygments_lexer": "ipython3",
   "version": "3.8.3"
  }
 },
 "nbformat": 4,
 "nbformat_minor": 4
}
